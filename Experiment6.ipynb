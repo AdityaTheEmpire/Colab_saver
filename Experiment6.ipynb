{
  "nbformat": 4,
  "nbformat_minor": 0,
  "metadata": {
    "colab": {
      "provenance": [],
      "authorship_tag": "ABX9TyPzm2SSAYzo33K2X4rhIybK",
      "include_colab_link": true
    },
    "kernelspec": {
      "name": "python3",
      "display_name": "Python 3"
    },
    "language_info": {
      "name": "python"
    }
  },
  "cells": [
    {
      "cell_type": "markdown",
      "metadata": {
        "id": "view-in-github",
        "colab_type": "text"
      },
      "source": [
        "<a href=\"https://colab.research.google.com/github/Aditya-Kothapalli/Colab_saver/blob/main/Experiment6.ipynb\" target=\"_parent\"><img src=\"https://colab.research.google.com/assets/colab-badge.svg\" alt=\"Open In Colab\"/></a>"
      ]
    },
    {
      "cell_type": "code",
      "execution_count": 4,
      "metadata": {
        "colab": {
          "base_uri": "https://localhost:8080/"
        },
        "id": "v_-IET1fb6t9",
        "outputId": "2f512793-747b-4668-f936-b89fa5fa72a7"
      },
      "outputs": [
        {
          "output_type": "stream",
          "name": "stdout",
          "text": [
            "Accuracy: 1.0\n",
            "Classification Report:\n",
            "              precision    recall  f1-score   support\n",
            "\n",
            "      setosa       1.00      1.00      1.00        10\n",
            "  versicolor       1.00      1.00      1.00         9\n",
            "   virginica       1.00      1.00      1.00        11\n",
            "\n",
            "    accuracy                           1.00        30\n",
            "   macro avg       1.00      1.00      1.00        30\n",
            "weighted avg       1.00      1.00      1.00        30\n",
            "\n",
            "confusion_matrix [[10  0  0]\n",
            " [ 0  9  0]\n",
            " [ 0  0 11]]\n"
          ]
        }
      ],
      "source": [
        "from sklearn.datasets import load_iris\n",
        "from sklearn.model_selection import train_test_split\n",
        "from sklearn.naive_bayes import GaussianNB\n",
        "from sklearn.metrics import accuracy_score, classification_report,confusion_matrix\n",
        "iris = load_iris()\n",
        "X = iris.data\n",
        "y = iris.target\n",
        "X_train, X_test, y_train, Y_test = train_test_split(X, y, test_size=0.2, random_state=42)\n",
        "# Create a Gaussian Naïve Bayes classifier\n",
        "model = GaussianNB()\n",
        "# Train the model\n",
        "model.fit(X_train, y_train)\n",
        "# Make predictions\n",
        "Y_pred = model.predict(X_test)\n",
        "# Evaluate the model\n",
        "accuracy = accuracy_score(Y_test, Y_pred)\n",
        "print(\"Accuracy:\", accuracy)\n",
        "# Print classification report\n",
        "print(\"Classification Report:\")\n",
        "print(classification_report(Y_test, Y_pred, target_names=iris.target_names))\n",
        "# confusion_matrix,\n",
        "cm = confusion_matrix(Y_test, Y_pred)\n",
        "print(\"confusion_matrix\",cm)\n"
      ]
    }
  ]
}
